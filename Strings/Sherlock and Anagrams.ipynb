{
 "cells": [
  {
   "cell_type": "code",
   "execution_count": null,
   "metadata": {},
   "outputs": [],
   "source": [
    "#!/bin/python3\n",
    "\n",
    "import math\n",
    "import os\n",
    "import random\n",
    "import re\n",
    "import sys\n",
    "\n",
    "# Complete the sherlockAndAnagrams function below.\n",
    "def sherlockAndAnagrams(s):\n",
    "    print('<s :', s, '>')\n",
    "    cnt = 0\n",
    "    for i in range(len(s)):\n",
    "        flag = s[i] # flag == 'i'\n",
    "        for j in range(len(s[i+1:])): #j는 단지 반복 횟수. 뒤에 남은 개수.\n",
    "            if s[i+1+j] == flag: #s[0+1+2]==s[3]=='i'\n",
    "                print('s[i+1+j] == flag! ==', flag)\n",
    "                cnt += 1\n",
    "                # ***여기서!! 같은데까지만 잘라서 그 앞쪽만 보는게 아니라, 뒤쪽도 같은 길이만큼 찾아줘야댐!!! (ex. cd & cd...)\n",
    "                tmp_front = s[i:i+1+j+1] # 일단 같은 데 까지(s[j+1]까지 포함!) 잘라서 새로운 임시 배열에 따로 담기\n",
    "                # ***여기서부터 cdcd를 위한 예외처리 부분 start***\n",
    "                if i+j*2+2 > len(s)-1:\n",
    "                    tmp_back = s[i+1+j:i+j*2+3]\n",
    "                else: tmp_back = s[i+1+j:]\n",
    "                \n",
    "                if len(tmp_front)>2: # 바로 옆에 같은 것 나왔을 경우 예외처리, lenth : 3\n",
    "                    l = 2 #2개짜리부터 시작\n",
    "                    while(l<=len(tmp_front)-1): # (2<=3)\n",
    "                        tmp_tmp = tmp_front[-l:]\n",
    "                        #print('s[i:i+l] :', s[i:i+l], 'reverse_tmp[::-1] :', reverse_tmp[::-1])\n",
    "                        if sorted(s[i:i+l]) == sorted(tmp_tmp): #s[2:4], [start, end-1] \n",
    "                            #if sorted() == sorted(): cnt+=1\n",
    "                            cnt+=1\n",
    "                        l+=1\n",
    "            else:\n",
    "                continue\n",
    "    \n",
    "    return cnt\n",
    "\n",
    "\n",
    "if __name__ == '__main__':\n",
    "    fptr = open(os.environ['OUTPUT_PATH'], 'w')\n",
    "\n",
    "    q = int(input())\n",
    "\n",
    "    for q_itr in range(q):\n",
    "        s = input()\n",
    "\n",
    "        result = sherlockAndAnagrams(s)\n",
    "\n",
    "        fptr.write(str(result) + '\\n')\n",
    "\n",
    "    fptr.close()\n"
   ]
  }
 ],
 "metadata": {
  "kernelspec": {
   "display_name": "Python 3",
   "language": "python",
   "name": "python3"
  },
  "language_info": {
   "codemirror_mode": {
    "name": "ipython",
    "version": 3
   },
   "file_extension": ".py",
   "mimetype": "text/x-python",
   "name": "python",
   "nbconvert_exporter": "python",
   "pygments_lexer": "ipython3",
   "version": "3.7.3"
  }
 },
 "nbformat": 4,
 "nbformat_minor": 2
}
